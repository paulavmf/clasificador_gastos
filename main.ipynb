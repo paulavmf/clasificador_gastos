{
 "cells": [
  {
   "cell_type": "code",
   "id": "cd14aa57",
   "metadata": {
    "ExecuteTime": {
     "end_time": "2024-06-17T19:57:54.014896Z",
     "start_time": "2024-06-17T19:57:53.592889Z"
    }
   },
   "source": [
    "import json\n",
    "\n",
    "from src.helpers import categories_widgets, load_doc_transactions_bankinter, procesar_transacciones, update_categoria\n",
    "import ipywidgets as widgets\n",
    "from IPython.display import display, HTML\n",
    "import pandas as pd\n",
    "import ipywidgets as widgets\n",
    "from IPython.display import display, HTML"
   ],
   "outputs": [],
   "execution_count": 1
  },
  {
   "metadata": {
    "ExecuteTime": {
     "end_time": "2024-06-17T19:57:54.030593Z",
     "start_time": "2024-06-17T19:57:54.016741Z"
    }
   },
   "cell_type": "code",
   "source": [
    "file_datos = \"movimientos(2).xls\"\n",
    "file_categorias = \"categorias.json\"\n",
    "df = load_doc_transactions_bankinter(file_datos)\n",
    "df.reset_index(drop=True, inplace=True)"
   ],
   "id": "dd196b948630c139",
   "outputs": [],
   "execution_count": 2
  },
  {
   "metadata": {
    "ExecuteTime": {
     "end_time": "2024-06-17T19:57:54.035175Z",
     "start_time": "2024-06-17T19:57:54.031919Z"
    }
   },
   "cell_type": "code",
   "source": "comercio_categoria_dict = json.load(open(file_categorias))",
   "id": "2c8fe409a97d9cda",
   "outputs": [],
   "execution_count": 3
  },
  {
   "metadata": {
    "ExecuteTime": {
     "end_time": "2024-06-17T19:57:54.273092Z",
     "start_time": "2024-06-17T19:57:54.214422Z"
    }
   },
   "cell_type": "code",
   "source": [
    "# Función para clasificar el comercio\n",
    "def clasificar_comercio(comercio):\n",
    "    for key in comercio_categoria_dict:\n",
    "        if key.lower() in comercio.lower():\n",
    "            return comercio_categoria_dict[key]\n",
    "    return 'otros'\n",
    "\n",
    "# Crear la columna 'Tipo de Comercio' inicial\n",
    "df['Tipo de Comercio'] = df['COMERCIO/CAJERO'].apply(clasificar_comercio)\n",
    "\n",
    "# Widgets interactivos para actualizar categorías\n",
    "tipo_opciones = ['bar', 'restaurante', 'desayuno', 'supermercado','ropa','servicios de internet','vacaciones', 'otros', 'tabaco', 'cosmético', 'muebles','deporte','retirada efectivo','gasolina']\n",
    "widgets_dict = {}\n",
    "\n",
    "def actualizar_categoria(change):\n",
    "    indice = change['owner'].indice\n",
    "    nuevo_tipo = change['new']\n",
    "    comercio = df.at[indice, 'COMERCIO/CAJERO']\n",
    "    comercio_categoria_dict[comercio] = nuevo_tipo\n",
    "    df['Tipo de Comercio'] = df['COMERCIO/CAJERO'].apply(clasificar_comercio)\n",
    "    display(df)\n",
    "\n",
    "for i in range(len(df)):\n",
    "    dropdown = widgets.Dropdown(options=tipo_opciones, value=df.at[i, 'Tipo de Comercio'])\n",
    "    dropdown.indice = i\n",
    "    dropdown.observe(actualizar_categoria, names='value')\n",
    "    widgets_dict[i] = dropdown"
   ],
   "id": "ce892d80c5273ac4",
   "outputs": [],
   "execution_count": 4
  },
  {
   "metadata": {
    "ExecuteTime": {
     "end_time": "2024-06-17T19:57:55.528437Z",
     "start_time": "2024-06-17T19:57:55.424116Z"
    }
   },
   "cell_type": "code",
   "source": [
    "display(widgets.VBox([widgets.HBox([widgets.Label(f\"{df.at[i, 'COMERCIO/CAJERO']}:\"), widgets_dict[i]]) for i in range(len(df))]))\n",
    "display(df)"
   ],
   "id": "353c1c442d6009ac",
   "outputs": [
    {
     "data": {
      "text/plain": [
       "VBox(children=(HBox(children=(Label(value='COM. USO REDES INTERNACION.:'), Dropdown(index=7, options=('bar', '…"
      ],
      "application/vnd.jupyter.widget-view+json": {
       "version_major": 2,
       "version_minor": 0,
       "model_id": "3a3c29152c3b4ae1aeec6a5b2c802a5a"
      }
     },
     "metadata": {},
     "output_type": "display_data"
    },
    {
     "data": {
      "text/plain": [
       "                  FECHA              COMERCIO/CAJERO MOVIMIENTO A  IMPORTE  \\\n",
       "0   2024-05-31 00:00:00  COM. USO REDES INTERNACION.      Crédito    -0.56   \n",
       "1   2024-05-31 00:00:00           FARMACIA EL CAMINO      Crédito    -9.52   \n",
       "2   2024-05-31 00:00:00       OPENAI *CHATGPT SUBSCR      Crédito   -18.54   \n",
       "3   2024-06-02 00:00:00    MATILDE PATRIZIA CHIARINI      Crédito   -11.70   \n",
       "4   2024-06-02 00:00:00              AGUERE CULTURAL      Crédito   -18.00   \n",
       "5   2024-06-03 00:00:00                   PIZZADILLO      Crédito   -20.00   \n",
       "6   2024-06-02 00:00:00                PAYPAL *GLOVO      Crédito   -27.69   \n",
       "7   2024-06-05 00:00:00     FRUTERIA MANOLO QUINTANA      Crédito    -2.73   \n",
       "8   2024-06-05 00:00:00                         SUMA      Crédito    -4.40   \n",
       "9   2024-06-06 00:00:00                   EL MOMENTO      Crédito    -3.30   \n",
       "10  2024-06-07 00:00:00              BAZAR ARCO IRIS      Crédito    -2.20   \n",
       "11  2024-06-07 00:00:00                     PINCHO J      Crédito   -21.35   \n",
       "12  2024-06-08 00:00:00                  IRISH ROVER      Crédito    -5.00   \n",
       "13  2024-06-08 00:00:00                   BAR SALMON      Crédito    -9.00   \n",
       "14  2024-06-08 00:00:00                     CURCUMAA      Crédito   -54.25   \n",
       "15  2024-06-09 00:00:00            BODEGA LOS LIRIOS      Crédito    -5.50   \n",
       "16  2024-06-09 00:00:00            BODEGA LOS LIRIOS      Crédito    -5.50   \n",
       "17  2024-06-09 00:00:00              SumUp  *Bebidas      Crédito    -7.00   \n",
       "18  2024-06-09 00:00:00    COSTUMBRES ARGENTINAS FOO      Crédito   -11.50   \n",
       "19  2024-06-10 00:00:00               SPAR LA ISLETA      Crédito    -3.40   \n",
       "20  2024-06-10 00:00:00        KING HOGAR EL SEBADAL      Crédito    -5.90   \n",
       "21  2024-06-10 00:00:00        KING HOGAR EL SEBADAL      Crédito   -12.57   \n",
       "22  2024-06-11 00:00:00              SUPERDINO MURGA      Crédito    -1.50   \n",
       "23  2024-06-11 00:00:00         ESQUINITA DE CEBRIAN      Crédito    -4.50   \n",
       "24  2024-06-12 00:00:00      HD BERNARDO DE LA TORRE      Crédito    -2.61   \n",
       "25  2024-06-12 00:00:00                   EL MOMENTO      Crédito    -3.40   \n",
       "26  2024-06-12 00:00:00                 LOS MILAGROS      Crédito    -4.20   \n",
       "27  2024-06-12 00:00:00         GALERIA BELLAS ARTES      Crédito   -14.38   \n",
       "\n",
       "   Tipo de Comercio  \n",
       "0             otros  \n",
       "1             otros  \n",
       "2             otros  \n",
       "3             otros  \n",
       "4             otros  \n",
       "5             otros  \n",
       "6       restaurante  \n",
       "7             otros  \n",
       "8             otros  \n",
       "9          desayuno  \n",
       "10            otros  \n",
       "11              bar  \n",
       "12              bar  \n",
       "13              bar  \n",
       "14            otros  \n",
       "15            otros  \n",
       "16            otros  \n",
       "17            otros  \n",
       "18            otros  \n",
       "19     supermercado  \n",
       "20            otros  \n",
       "21            otros  \n",
       "22     supermercado  \n",
       "23         desayuno  \n",
       "24     supermercado  \n",
       "25         desayuno  \n",
       "26              bar  \n",
       "27            otros  "
      ],
      "text/html": [
       "<div>\n",
       "<style scoped>\n",
       "    .dataframe tbody tr th:only-of-type {\n",
       "        vertical-align: middle;\n",
       "    }\n",
       "\n",
       "    .dataframe tbody tr th {\n",
       "        vertical-align: top;\n",
       "    }\n",
       "\n",
       "    .dataframe thead th {\n",
       "        text-align: right;\n",
       "    }\n",
       "</style>\n",
       "<table border=\"1\" class=\"dataframe\">\n",
       "  <thead>\n",
       "    <tr style=\"text-align: right;\">\n",
       "      <th></th>\n",
       "      <th>FECHA</th>\n",
       "      <th>COMERCIO/CAJERO</th>\n",
       "      <th>MOVIMIENTO A</th>\n",
       "      <th>IMPORTE</th>\n",
       "      <th>Tipo de Comercio</th>\n",
       "    </tr>\n",
       "  </thead>\n",
       "  <tbody>\n",
       "    <tr>\n",
       "      <th>0</th>\n",
       "      <td>2024-05-31 00:00:00</td>\n",
       "      <td>COM. USO REDES INTERNACION.</td>\n",
       "      <td>Crédito</td>\n",
       "      <td>-0.56</td>\n",
       "      <td>otros</td>\n",
       "    </tr>\n",
       "    <tr>\n",
       "      <th>1</th>\n",
       "      <td>2024-05-31 00:00:00</td>\n",
       "      <td>FARMACIA EL CAMINO</td>\n",
       "      <td>Crédito</td>\n",
       "      <td>-9.52</td>\n",
       "      <td>otros</td>\n",
       "    </tr>\n",
       "    <tr>\n",
       "      <th>2</th>\n",
       "      <td>2024-05-31 00:00:00</td>\n",
       "      <td>OPENAI *CHATGPT SUBSCR</td>\n",
       "      <td>Crédito</td>\n",
       "      <td>-18.54</td>\n",
       "      <td>otros</td>\n",
       "    </tr>\n",
       "    <tr>\n",
       "      <th>3</th>\n",
       "      <td>2024-06-02 00:00:00</td>\n",
       "      <td>MATILDE PATRIZIA CHIARINI</td>\n",
       "      <td>Crédito</td>\n",
       "      <td>-11.70</td>\n",
       "      <td>otros</td>\n",
       "    </tr>\n",
       "    <tr>\n",
       "      <th>4</th>\n",
       "      <td>2024-06-02 00:00:00</td>\n",
       "      <td>AGUERE CULTURAL</td>\n",
       "      <td>Crédito</td>\n",
       "      <td>-18.00</td>\n",
       "      <td>otros</td>\n",
       "    </tr>\n",
       "    <tr>\n",
       "      <th>5</th>\n",
       "      <td>2024-06-03 00:00:00</td>\n",
       "      <td>PIZZADILLO</td>\n",
       "      <td>Crédito</td>\n",
       "      <td>-20.00</td>\n",
       "      <td>otros</td>\n",
       "    </tr>\n",
       "    <tr>\n",
       "      <th>6</th>\n",
       "      <td>2024-06-02 00:00:00</td>\n",
       "      <td>PAYPAL *GLOVO</td>\n",
       "      <td>Crédito</td>\n",
       "      <td>-27.69</td>\n",
       "      <td>restaurante</td>\n",
       "    </tr>\n",
       "    <tr>\n",
       "      <th>7</th>\n",
       "      <td>2024-06-05 00:00:00</td>\n",
       "      <td>FRUTERIA MANOLO QUINTANA</td>\n",
       "      <td>Crédito</td>\n",
       "      <td>-2.73</td>\n",
       "      <td>otros</td>\n",
       "    </tr>\n",
       "    <tr>\n",
       "      <th>8</th>\n",
       "      <td>2024-06-05 00:00:00</td>\n",
       "      <td>SUMA</td>\n",
       "      <td>Crédito</td>\n",
       "      <td>-4.40</td>\n",
       "      <td>otros</td>\n",
       "    </tr>\n",
       "    <tr>\n",
       "      <th>9</th>\n",
       "      <td>2024-06-06 00:00:00</td>\n",
       "      <td>EL MOMENTO</td>\n",
       "      <td>Crédito</td>\n",
       "      <td>-3.30</td>\n",
       "      <td>desayuno</td>\n",
       "    </tr>\n",
       "    <tr>\n",
       "      <th>10</th>\n",
       "      <td>2024-06-07 00:00:00</td>\n",
       "      <td>BAZAR ARCO IRIS</td>\n",
       "      <td>Crédito</td>\n",
       "      <td>-2.20</td>\n",
       "      <td>otros</td>\n",
       "    </tr>\n",
       "    <tr>\n",
       "      <th>11</th>\n",
       "      <td>2024-06-07 00:00:00</td>\n",
       "      <td>PINCHO J</td>\n",
       "      <td>Crédito</td>\n",
       "      <td>-21.35</td>\n",
       "      <td>bar</td>\n",
       "    </tr>\n",
       "    <tr>\n",
       "      <th>12</th>\n",
       "      <td>2024-06-08 00:00:00</td>\n",
       "      <td>IRISH ROVER</td>\n",
       "      <td>Crédito</td>\n",
       "      <td>-5.00</td>\n",
       "      <td>bar</td>\n",
       "    </tr>\n",
       "    <tr>\n",
       "      <th>13</th>\n",
       "      <td>2024-06-08 00:00:00</td>\n",
       "      <td>BAR SALMON</td>\n",
       "      <td>Crédito</td>\n",
       "      <td>-9.00</td>\n",
       "      <td>bar</td>\n",
       "    </tr>\n",
       "    <tr>\n",
       "      <th>14</th>\n",
       "      <td>2024-06-08 00:00:00</td>\n",
       "      <td>CURCUMAA</td>\n",
       "      <td>Crédito</td>\n",
       "      <td>-54.25</td>\n",
       "      <td>otros</td>\n",
       "    </tr>\n",
       "    <tr>\n",
       "      <th>15</th>\n",
       "      <td>2024-06-09 00:00:00</td>\n",
       "      <td>BODEGA LOS LIRIOS</td>\n",
       "      <td>Crédito</td>\n",
       "      <td>-5.50</td>\n",
       "      <td>otros</td>\n",
       "    </tr>\n",
       "    <tr>\n",
       "      <th>16</th>\n",
       "      <td>2024-06-09 00:00:00</td>\n",
       "      <td>BODEGA LOS LIRIOS</td>\n",
       "      <td>Crédito</td>\n",
       "      <td>-5.50</td>\n",
       "      <td>otros</td>\n",
       "    </tr>\n",
       "    <tr>\n",
       "      <th>17</th>\n",
       "      <td>2024-06-09 00:00:00</td>\n",
       "      <td>SumUp  *Bebidas</td>\n",
       "      <td>Crédito</td>\n",
       "      <td>-7.00</td>\n",
       "      <td>otros</td>\n",
       "    </tr>\n",
       "    <tr>\n",
       "      <th>18</th>\n",
       "      <td>2024-06-09 00:00:00</td>\n",
       "      <td>COSTUMBRES ARGENTINAS FOO</td>\n",
       "      <td>Crédito</td>\n",
       "      <td>-11.50</td>\n",
       "      <td>otros</td>\n",
       "    </tr>\n",
       "    <tr>\n",
       "      <th>19</th>\n",
       "      <td>2024-06-10 00:00:00</td>\n",
       "      <td>SPAR LA ISLETA</td>\n",
       "      <td>Crédito</td>\n",
       "      <td>-3.40</td>\n",
       "      <td>supermercado</td>\n",
       "    </tr>\n",
       "    <tr>\n",
       "      <th>20</th>\n",
       "      <td>2024-06-10 00:00:00</td>\n",
       "      <td>KING HOGAR EL SEBADAL</td>\n",
       "      <td>Crédito</td>\n",
       "      <td>-5.90</td>\n",
       "      <td>otros</td>\n",
       "    </tr>\n",
       "    <tr>\n",
       "      <th>21</th>\n",
       "      <td>2024-06-10 00:00:00</td>\n",
       "      <td>KING HOGAR EL SEBADAL</td>\n",
       "      <td>Crédito</td>\n",
       "      <td>-12.57</td>\n",
       "      <td>otros</td>\n",
       "    </tr>\n",
       "    <tr>\n",
       "      <th>22</th>\n",
       "      <td>2024-06-11 00:00:00</td>\n",
       "      <td>SUPERDINO MURGA</td>\n",
       "      <td>Crédito</td>\n",
       "      <td>-1.50</td>\n",
       "      <td>supermercado</td>\n",
       "    </tr>\n",
       "    <tr>\n",
       "      <th>23</th>\n",
       "      <td>2024-06-11 00:00:00</td>\n",
       "      <td>ESQUINITA DE CEBRIAN</td>\n",
       "      <td>Crédito</td>\n",
       "      <td>-4.50</td>\n",
       "      <td>desayuno</td>\n",
       "    </tr>\n",
       "    <tr>\n",
       "      <th>24</th>\n",
       "      <td>2024-06-12 00:00:00</td>\n",
       "      <td>HD BERNARDO DE LA TORRE</td>\n",
       "      <td>Crédito</td>\n",
       "      <td>-2.61</td>\n",
       "      <td>supermercado</td>\n",
       "    </tr>\n",
       "    <tr>\n",
       "      <th>25</th>\n",
       "      <td>2024-06-12 00:00:00</td>\n",
       "      <td>EL MOMENTO</td>\n",
       "      <td>Crédito</td>\n",
       "      <td>-3.40</td>\n",
       "      <td>desayuno</td>\n",
       "    </tr>\n",
       "    <tr>\n",
       "      <th>26</th>\n",
       "      <td>2024-06-12 00:00:00</td>\n",
       "      <td>LOS MILAGROS</td>\n",
       "      <td>Crédito</td>\n",
       "      <td>-4.20</td>\n",
       "      <td>bar</td>\n",
       "    </tr>\n",
       "    <tr>\n",
       "      <th>27</th>\n",
       "      <td>2024-06-12 00:00:00</td>\n",
       "      <td>GALERIA BELLAS ARTES</td>\n",
       "      <td>Crédito</td>\n",
       "      <td>-14.38</td>\n",
       "      <td>otros</td>\n",
       "    </tr>\n",
       "  </tbody>\n",
       "</table>\n",
       "</div>"
      ]
     },
     "metadata": {},
     "output_type": "display_data"
    }
   ],
   "execution_count": 5
  },
  {
   "metadata": {
    "ExecuteTime": {
     "end_time": "2024-06-17T19:59:27.433787Z",
     "start_time": "2024-06-17T19:59:27.423233Z"
    }
   },
   "cell_type": "code",
   "source": [
    "# guardar cambios en categorías\n",
    "with open(file_categorias, 'w') as json_file:\n",
    "    json.dump(comercio_categoria_dict, json_file, indent=4)\n",
    "print(\"Diccionario guardado en comercio_categoria_dict.json\")"
   ],
   "id": "d736f01f3153d7e8",
   "outputs": [
    {
     "name": "stdout",
     "output_type": "stream",
     "text": [
      "Diccionario guardado en comercio_categoria_dict.json\n"
     ]
    }
   ],
   "execution_count": 6
  },
  {
   "metadata": {
    "ExecuteTime": {
     "end_time": "2024-06-17T19:59:27.986055Z",
     "start_time": "2024-06-17T19:59:27.848252Z"
    }
   },
   "cell_type": "code",
   "source": [
    "# Guardar el DataFrame en un archivo Excel, organizando en hojas según el mes y año\n",
    "df['Mes-Año'] = pd.to_datetime(df['FECHA']).dt.strftime('%Y-%m')\n",
    "with pd.ExcelWriter('mis_gastos.xlsx', engine='openpyxl') as writer:\n",
    "    for month_year, group in df.groupby('Mes-Año'):\n",
    "        group.drop(columns=['Mes-Año'], inplace=True)  # Eliminar la columna auxiliar\n",
    "        group.to_excel(writer, sheet_name=month_year, index=False)\n",
    "print(\"DataFrame guardado en mis_gastos.xlsx\")"
   ],
   "id": "753808d8e9fe8271",
   "outputs": [
    {
     "name": "stdout",
     "output_type": "stream",
     "text": [
      "DataFrame guardado en mis_gastos.xlsx\n"
     ]
    }
   ],
   "execution_count": 7
  },
  {
   "metadata": {
    "ExecuteTime": {
     "end_time": "2024-06-17T19:59:31.904322Z",
     "start_time": "2024-06-17T19:59:31.897195Z"
    }
   },
   "cell_type": "code",
   "source": "month_year",
   "id": "fb4c52c4aebab3e",
   "outputs": [
    {
     "data": {
      "text/plain": [
       "'2024-06'"
      ]
     },
     "execution_count": 8,
     "metadata": {},
     "output_type": "execute_result"
    }
   ],
   "execution_count": 8
  },
  {
   "metadata": {},
   "cell_type": "code",
   "outputs": [],
   "execution_count": null,
   "source": "",
   "id": "6fe6891a7f06f2fd"
  }
 ],
 "metadata": {
  "kernelspec": {
   "display_name": "clasificador_gastos",
   "language": "python",
   "name": "clasificador_gastos"
  },
  "language_info": {
   "codemirror_mode": {
    "name": "ipython",
    "version": 3
   },
   "file_extension": ".py",
   "mimetype": "text/x-python",
   "name": "python",
   "nbconvert_exporter": "python",
   "pygments_lexer": "ipython3",
   "version": "3.10.14"
  }
 },
 "nbformat": 4,
 "nbformat_minor": 5
}

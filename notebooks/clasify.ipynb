{
 "cells": [
  {
   "cell_type": "code",
   "id": "cd14aa57",
   "metadata": {
    "ExecuteTime": {
     "end_time": "2024-06-19T14:45:06.096226Z",
     "start_time": "2024-06-19T14:45:06.087899Z"
    }
   },
   "source": [
    "import json\n",
    "\n",
    "from src.utils.helpers import load_doc_transactions_bankinter, listar_archivos_en_carpeta, save_df_by_dates\n",
    "import ipywidgets as widgets\n",
    "from IPython.display import display"
   ],
   "outputs": [],
   "execution_count": 9
  },
  {
   "metadata": {
    "ExecuteTime": {
     "end_time": "2024-06-19T14:45:06.163172Z",
     "start_time": "2024-06-19T14:45:06.155428Z"
    }
   },
   "cell_type": "code",
   "source": [
    "# Especificar la carpeta\n",
    "carpeta = 'movimientos/'  # Reemplaza esto con la ruta a tu carpeta\n",
    "\n",
    "# Obtener los archivos y sus paths\n",
    "archivos, archivos_paths = listar_archivos_en_carpeta(carpeta)\n",
    "\n",
    "# Crear el widget Dropdown\n",
    "dropdown_archivos = widgets.Dropdown(\n",
    "    options=list(zip(archivos, archivos_paths)),\n",
    "    description='Archivos:',\n",
    "    style={'description_width': 'initial'},\n",
    "    layout=widgets.Layout(width='50%')\n",
    ")\n",
    "\n",
    "# Mostrar el widget Dropdown\n",
    "display(dropdown_archivos)\n"
   ],
   "id": "b06801b29c0f6091",
   "outputs": [
    {
     "data": {
      "text/plain": [
       "Dropdown(description='Archivos:', layout=Layout(width='50%'), options=(('movimientos(1).xls', 'movimientos/mov…"
      ],
      "application/vnd.jupyter.widget-view+json": {
       "version_major": 2,
       "version_minor": 0,
       "model_id": "a4535303e3a243c89c9bb8cd92d8d451"
      }
     },
     "metadata": {},
     "output_type": "display_data"
    }
   ],
   "execution_count": 10
  },
  {
   "metadata": {
    "ExecuteTime": {
     "end_time": "2024-06-19T14:45:36.814107Z",
     "start_time": "2024-06-19T14:45:36.790623Z"
    }
   },
   "cell_type": "code",
   "source": [
    "file_categorias = \"categorias.json\"\n",
    "df = load_doc_transactions_bankinter(dropdown_archivos.value)\n",
    "print(f\"cargado documento {dropdown_archivos.value} para convertir\")\n",
    "df.reset_index(drop=True, inplace=True)"
   ],
   "id": "dd196b948630c139",
   "outputs": [
    {
     "name": "stdout",
     "output_type": "stream",
     "text": [
      "cargado documento movimientos/movimientos(2).xls para convertir\n"
     ]
    }
   ],
   "execution_count": 29
  },
  {
   "metadata": {
    "ExecuteTime": {
     "end_time": "2024-06-19T14:45:36.941336Z",
     "start_time": "2024-06-19T14:45:36.937764Z"
    }
   },
   "cell_type": "code",
   "source": "comercio_categoria_dict = json.load(open(file_categorias))",
   "id": "2c8fe409a97d9cda",
   "outputs": [],
   "execution_count": 30
  },
  {
   "metadata": {
    "ExecuteTime": {
     "end_time": "2024-06-19T14:45:37.161860Z",
     "start_time": "2024-06-19T14:45:37.105391Z"
    }
   },
   "cell_type": "code",
   "source": [
    "# Función para clasificar el comercio\n",
    "def clasificar_comercio(comercio):\n",
    "    for key in comercio_categoria_dict:\n",
    "        if key.lower() in comercio.lower():\n",
    "            return comercio_categoria_dict[key]\n",
    "    return 'otros'\n",
    "\n",
    "# Crear la columna 'Tipo de Comercio' inicial\n",
    "df['Tipo de Comercio'] = df['COMERCIO/CAJERO'].apply(clasificar_comercio)\n",
    "\n",
    "# Widgets interactivos para actualizar categorías\n",
    "tipo_opciones = ['bar', 'restaurante', 'desayuno', 'supermercado','ropa','servicios de internet','vacaciones', 'otros', 'tabaco', 'cosmético', 'muebles','deporte','retirada efectivo','gasolina']\n",
    "widgets_dict = {}\n",
    "\n",
    "def actualizar_categoria(change):\n",
    "    indice = change['owner'].indice\n",
    "    nuevo_tipo = change['new']\n",
    "    comercio = df.at[indice, 'COMERCIO/CAJERO']\n",
    "    comercio_categoria_dict[comercio] = nuevo_tipo\n",
    "    df['Tipo de Comercio'] = df['COMERCIO/CAJERO'].apply(clasificar_comercio)\n",
    "    display(df)\n",
    "\n",
    "for i in range(len(df)):\n",
    "    dropdown = widgets.Dropdown(options=tipo_opciones, value=df.at[i, 'Tipo de Comercio'])\n",
    "    dropdown.indice = i\n",
    "    dropdown.observe(actualizar_categoria, names='value')\n",
    "    widgets_dict[i] = dropdown"
   ],
   "id": "ce892d80c5273ac4",
   "outputs": [],
   "execution_count": 31
  },
  {
   "metadata": {
    "ExecuteTime": {
     "end_time": "2024-06-19T14:45:37.353274Z",
     "start_time": "2024-06-19T14:45:37.258744Z"
    }
   },
   "cell_type": "code",
   "source": [
    "display(widgets.VBox([widgets.HBox([widgets.Label(f\"{df.at[i, 'COMERCIO/CAJERO']}:\"), widgets_dict[i]]) for i in range(len(df))]))\n",
    "display(df)"
   ],
   "id": "353c1c442d6009ac",
   "outputs": [
    {
     "data": {
      "text/plain": [
       "VBox(children=(HBox(children=(Label(value='COM. USO REDES INTERNACION.:'), Dropdown(index=7, options=('bar', '…"
      ],
      "application/vnd.jupyter.widget-view+json": {
       "version_major": 2,
       "version_minor": 0,
       "model_id": "306532ce9fcc4c5dbff0375df42b9d1e"
      }
     },
     "metadata": {},
     "output_type": "display_data"
    },
    {
     "data": {
      "text/plain": [
       "                  FECHA              COMERCIO/CAJERO MOVIMIENTO A  IMPORTE  \\\n",
       "0   2024-05-31 00:00:00  COM. USO REDES INTERNACION.      Crédito    -0.56   \n",
       "1   2024-05-31 00:00:00           FARMACIA EL CAMINO      Crédito    -9.52   \n",
       "2   2024-05-31 00:00:00       OPENAI *CHATGPT SUBSCR      Crédito   -18.54   \n",
       "3   2024-06-02 00:00:00    MATILDE PATRIZIA CHIARINI      Crédito   -11.70   \n",
       "4   2024-06-02 00:00:00              AGUERE CULTURAL      Crédito   -18.00   \n",
       "5   2024-06-03 00:00:00                   PIZZADILLO      Crédito   -20.00   \n",
       "6   2024-06-02 00:00:00                PAYPAL *GLOVO      Crédito   -27.69   \n",
       "7   2024-06-05 00:00:00     FRUTERIA MANOLO QUINTANA      Crédito    -2.73   \n",
       "8   2024-06-05 00:00:00                         SUMA      Crédito    -4.40   \n",
       "9   2024-06-06 00:00:00                   EL MOMENTO      Crédito    -3.30   \n",
       "10  2024-06-07 00:00:00              BAZAR ARCO IRIS      Crédito    -2.20   \n",
       "11  2024-06-07 00:00:00                     PINCHO J      Crédito   -21.35   \n",
       "12  2024-06-08 00:00:00                  IRISH ROVER      Crédito    -5.00   \n",
       "13  2024-06-08 00:00:00                   BAR SALMON      Crédito    -9.00   \n",
       "14  2024-06-08 00:00:00                     CURCUMAA      Crédito   -54.25   \n",
       "15  2024-06-09 00:00:00            BODEGA LOS LIRIOS      Crédito    -5.50   \n",
       "16  2024-06-09 00:00:00            BODEGA LOS LIRIOS      Crédito    -5.50   \n",
       "17  2024-06-09 00:00:00              SumUp  *Bebidas      Crédito    -7.00   \n",
       "18  2024-06-09 00:00:00    COSTUMBRES ARGENTINAS FOO      Crédito   -11.50   \n",
       "19  2024-06-10 00:00:00               SPAR LA ISLETA      Crédito    -3.40   \n",
       "20  2024-06-10 00:00:00        KING HOGAR EL SEBADAL      Crédito    -5.90   \n",
       "21  2024-06-10 00:00:00        KING HOGAR EL SEBADAL      Crédito   -12.57   \n",
       "22  2024-06-11 00:00:00              SUPERDINO MURGA      Crédito    -1.50   \n",
       "23  2024-06-11 00:00:00         ESQUINITA DE CEBRIAN      Crédito    -4.50   \n",
       "24  2024-06-12 00:00:00      HD BERNARDO DE LA TORRE      Crédito    -2.61   \n",
       "25  2024-06-12 00:00:00                   EL MOMENTO      Crédito    -3.40   \n",
       "26  2024-06-12 00:00:00                 LOS MILAGROS      Crédito    -4.20   \n",
       "27  2024-06-12 00:00:00         GALERIA BELLAS ARTES      Crédito   -14.38   \n",
       "\n",
       "         Tipo de Comercio  \n",
       "0                   otros  \n",
       "1                   otros  \n",
       "2   servicios de internet  \n",
       "3             restaurante  \n",
       "4                     bar  \n",
       "5             restaurante  \n",
       "6             restaurante  \n",
       "7            supermercado  \n",
       "8            supermercado  \n",
       "9                desayuno  \n",
       "10                  otros  \n",
       "11                    bar  \n",
       "12                    bar  \n",
       "13                    bar  \n",
       "14            restaurante  \n",
       "15                    bar  \n",
       "16                    bar  \n",
       "17                  otros  \n",
       "18            restaurante  \n",
       "19           supermercado  \n",
       "20                muebles  \n",
       "21                muebles  \n",
       "22           supermercado  \n",
       "23               desayuno  \n",
       "24           supermercado  \n",
       "25               desayuno  \n",
       "26                    bar  \n",
       "27                deporte  "
      ],
      "text/html": [
       "<div>\n",
       "<style scoped>\n",
       "    .dataframe tbody tr th:only-of-type {\n",
       "        vertical-align: middle;\n",
       "    }\n",
       "\n",
       "    .dataframe tbody tr th {\n",
       "        vertical-align: top;\n",
       "    }\n",
       "\n",
       "    .dataframe thead th {\n",
       "        text-align: right;\n",
       "    }\n",
       "</style>\n",
       "<table border=\"1\" class=\"dataframe\">\n",
       "  <thead>\n",
       "    <tr style=\"text-align: right;\">\n",
       "      <th></th>\n",
       "      <th>FECHA</th>\n",
       "      <th>COMERCIO/CAJERO</th>\n",
       "      <th>MOVIMIENTO A</th>\n",
       "      <th>IMPORTE</th>\n",
       "      <th>Tipo de Comercio</th>\n",
       "    </tr>\n",
       "  </thead>\n",
       "  <tbody>\n",
       "    <tr>\n",
       "      <th>0</th>\n",
       "      <td>2024-05-31 00:00:00</td>\n",
       "      <td>COM. USO REDES INTERNACION.</td>\n",
       "      <td>Crédito</td>\n",
       "      <td>-0.56</td>\n",
       "      <td>otros</td>\n",
       "    </tr>\n",
       "    <tr>\n",
       "      <th>1</th>\n",
       "      <td>2024-05-31 00:00:00</td>\n",
       "      <td>FARMACIA EL CAMINO</td>\n",
       "      <td>Crédito</td>\n",
       "      <td>-9.52</td>\n",
       "      <td>otros</td>\n",
       "    </tr>\n",
       "    <tr>\n",
       "      <th>2</th>\n",
       "      <td>2024-05-31 00:00:00</td>\n",
       "      <td>OPENAI *CHATGPT SUBSCR</td>\n",
       "      <td>Crédito</td>\n",
       "      <td>-18.54</td>\n",
       "      <td>servicios de internet</td>\n",
       "    </tr>\n",
       "    <tr>\n",
       "      <th>3</th>\n",
       "      <td>2024-06-02 00:00:00</td>\n",
       "      <td>MATILDE PATRIZIA CHIARINI</td>\n",
       "      <td>Crédito</td>\n",
       "      <td>-11.70</td>\n",
       "      <td>restaurante</td>\n",
       "    </tr>\n",
       "    <tr>\n",
       "      <th>4</th>\n",
       "      <td>2024-06-02 00:00:00</td>\n",
       "      <td>AGUERE CULTURAL</td>\n",
       "      <td>Crédito</td>\n",
       "      <td>-18.00</td>\n",
       "      <td>bar</td>\n",
       "    </tr>\n",
       "    <tr>\n",
       "      <th>5</th>\n",
       "      <td>2024-06-03 00:00:00</td>\n",
       "      <td>PIZZADILLO</td>\n",
       "      <td>Crédito</td>\n",
       "      <td>-20.00</td>\n",
       "      <td>restaurante</td>\n",
       "    </tr>\n",
       "    <tr>\n",
       "      <th>6</th>\n",
       "      <td>2024-06-02 00:00:00</td>\n",
       "      <td>PAYPAL *GLOVO</td>\n",
       "      <td>Crédito</td>\n",
       "      <td>-27.69</td>\n",
       "      <td>restaurante</td>\n",
       "    </tr>\n",
       "    <tr>\n",
       "      <th>7</th>\n",
       "      <td>2024-06-05 00:00:00</td>\n",
       "      <td>FRUTERIA MANOLO QUINTANA</td>\n",
       "      <td>Crédito</td>\n",
       "      <td>-2.73</td>\n",
       "      <td>supermercado</td>\n",
       "    </tr>\n",
       "    <tr>\n",
       "      <th>8</th>\n",
       "      <td>2024-06-05 00:00:00</td>\n",
       "      <td>SUMA</td>\n",
       "      <td>Crédito</td>\n",
       "      <td>-4.40</td>\n",
       "      <td>supermercado</td>\n",
       "    </tr>\n",
       "    <tr>\n",
       "      <th>9</th>\n",
       "      <td>2024-06-06 00:00:00</td>\n",
       "      <td>EL MOMENTO</td>\n",
       "      <td>Crédito</td>\n",
       "      <td>-3.30</td>\n",
       "      <td>desayuno</td>\n",
       "    </tr>\n",
       "    <tr>\n",
       "      <th>10</th>\n",
       "      <td>2024-06-07 00:00:00</td>\n",
       "      <td>BAZAR ARCO IRIS</td>\n",
       "      <td>Crédito</td>\n",
       "      <td>-2.20</td>\n",
       "      <td>otros</td>\n",
       "    </tr>\n",
       "    <tr>\n",
       "      <th>11</th>\n",
       "      <td>2024-06-07 00:00:00</td>\n",
       "      <td>PINCHO J</td>\n",
       "      <td>Crédito</td>\n",
       "      <td>-21.35</td>\n",
       "      <td>bar</td>\n",
       "    </tr>\n",
       "    <tr>\n",
       "      <th>12</th>\n",
       "      <td>2024-06-08 00:00:00</td>\n",
       "      <td>IRISH ROVER</td>\n",
       "      <td>Crédito</td>\n",
       "      <td>-5.00</td>\n",
       "      <td>bar</td>\n",
       "    </tr>\n",
       "    <tr>\n",
       "      <th>13</th>\n",
       "      <td>2024-06-08 00:00:00</td>\n",
       "      <td>BAR SALMON</td>\n",
       "      <td>Crédito</td>\n",
       "      <td>-9.00</td>\n",
       "      <td>bar</td>\n",
       "    </tr>\n",
       "    <tr>\n",
       "      <th>14</th>\n",
       "      <td>2024-06-08 00:00:00</td>\n",
       "      <td>CURCUMAA</td>\n",
       "      <td>Crédito</td>\n",
       "      <td>-54.25</td>\n",
       "      <td>restaurante</td>\n",
       "    </tr>\n",
       "    <tr>\n",
       "      <th>15</th>\n",
       "      <td>2024-06-09 00:00:00</td>\n",
       "      <td>BODEGA LOS LIRIOS</td>\n",
       "      <td>Crédito</td>\n",
       "      <td>-5.50</td>\n",
       "      <td>bar</td>\n",
       "    </tr>\n",
       "    <tr>\n",
       "      <th>16</th>\n",
       "      <td>2024-06-09 00:00:00</td>\n",
       "      <td>BODEGA LOS LIRIOS</td>\n",
       "      <td>Crédito</td>\n",
       "      <td>-5.50</td>\n",
       "      <td>bar</td>\n",
       "    </tr>\n",
       "    <tr>\n",
       "      <th>17</th>\n",
       "      <td>2024-06-09 00:00:00</td>\n",
       "      <td>SumUp  *Bebidas</td>\n",
       "      <td>Crédito</td>\n",
       "      <td>-7.00</td>\n",
       "      <td>otros</td>\n",
       "    </tr>\n",
       "    <tr>\n",
       "      <th>18</th>\n",
       "      <td>2024-06-09 00:00:00</td>\n",
       "      <td>COSTUMBRES ARGENTINAS FOO</td>\n",
       "      <td>Crédito</td>\n",
       "      <td>-11.50</td>\n",
       "      <td>restaurante</td>\n",
       "    </tr>\n",
       "    <tr>\n",
       "      <th>19</th>\n",
       "      <td>2024-06-10 00:00:00</td>\n",
       "      <td>SPAR LA ISLETA</td>\n",
       "      <td>Crédito</td>\n",
       "      <td>-3.40</td>\n",
       "      <td>supermercado</td>\n",
       "    </tr>\n",
       "    <tr>\n",
       "      <th>20</th>\n",
       "      <td>2024-06-10 00:00:00</td>\n",
       "      <td>KING HOGAR EL SEBADAL</td>\n",
       "      <td>Crédito</td>\n",
       "      <td>-5.90</td>\n",
       "      <td>muebles</td>\n",
       "    </tr>\n",
       "    <tr>\n",
       "      <th>21</th>\n",
       "      <td>2024-06-10 00:00:00</td>\n",
       "      <td>KING HOGAR EL SEBADAL</td>\n",
       "      <td>Crédito</td>\n",
       "      <td>-12.57</td>\n",
       "      <td>muebles</td>\n",
       "    </tr>\n",
       "    <tr>\n",
       "      <th>22</th>\n",
       "      <td>2024-06-11 00:00:00</td>\n",
       "      <td>SUPERDINO MURGA</td>\n",
       "      <td>Crédito</td>\n",
       "      <td>-1.50</td>\n",
       "      <td>supermercado</td>\n",
       "    </tr>\n",
       "    <tr>\n",
       "      <th>23</th>\n",
       "      <td>2024-06-11 00:00:00</td>\n",
       "      <td>ESQUINITA DE CEBRIAN</td>\n",
       "      <td>Crédito</td>\n",
       "      <td>-4.50</td>\n",
       "      <td>desayuno</td>\n",
       "    </tr>\n",
       "    <tr>\n",
       "      <th>24</th>\n",
       "      <td>2024-06-12 00:00:00</td>\n",
       "      <td>HD BERNARDO DE LA TORRE</td>\n",
       "      <td>Crédito</td>\n",
       "      <td>-2.61</td>\n",
       "      <td>supermercado</td>\n",
       "    </tr>\n",
       "    <tr>\n",
       "      <th>25</th>\n",
       "      <td>2024-06-12 00:00:00</td>\n",
       "      <td>EL MOMENTO</td>\n",
       "      <td>Crédito</td>\n",
       "      <td>-3.40</td>\n",
       "      <td>desayuno</td>\n",
       "    </tr>\n",
       "    <tr>\n",
       "      <th>26</th>\n",
       "      <td>2024-06-12 00:00:00</td>\n",
       "      <td>LOS MILAGROS</td>\n",
       "      <td>Crédito</td>\n",
       "      <td>-4.20</td>\n",
       "      <td>bar</td>\n",
       "    </tr>\n",
       "    <tr>\n",
       "      <th>27</th>\n",
       "      <td>2024-06-12 00:00:00</td>\n",
       "      <td>GALERIA BELLAS ARTES</td>\n",
       "      <td>Crédito</td>\n",
       "      <td>-14.38</td>\n",
       "      <td>deporte</td>\n",
       "    </tr>\n",
       "  </tbody>\n",
       "</table>\n",
       "</div>"
      ]
     },
     "metadata": {},
     "output_type": "display_data"
    }
   ],
   "execution_count": 32
  },
  {
   "metadata": {},
   "cell_type": "code",
   "source": [
    "# guardar cambios en categorías\n",
    "with open(file_categorias, 'w') as json_file:\n",
    "    json.dump(comercio_categoria_dict, json_file, indent=4)\n",
    "print(\"Diccionario guardado en comercio_categoria_dict.json\")"
   ],
   "id": "d736f01f3153d7e8",
   "outputs": [
    {
     "name": "stdout",
     "output_type": "stream",
     "text": [
      "Diccionario guardado en comercio_categoria_dict.json\n"
     ]
    }
   ],
   "execution_count": 33
  },
  {
   "metadata": {},
   "cell_type": "markdown",
   "source": "",
   "id": "2f5fb020e4732528"
  },
  {
   "metadata": {
    "ExecuteTime": {
     "end_time": "2024-06-19T14:45:37.837445Z",
     "start_time": "2024-06-19T14:45:37.780623Z"
    }
   },
   "cell_type": "code",
   "source": "save_df_by_dates(df)",
   "id": "6fe6891a7f06f2fd",
   "outputs": [
    {
     "name": "stdout",
     "output_type": "stream",
     "text": [
      "Datos guardados en la hoja: 2024-05-31_a_2024-06-12\n"
     ]
    }
   ],
   "execution_count": 34
  },
  {
   "metadata": {},
   "cell_type": "code",
   "source": "",
   "id": "8b722318bdae382b",
   "outputs": [],
   "execution_count": 16
  }
 ],
 "metadata": {
  "kernelspec": {
   "display_name": "clasificador_gastos",
   "language": "python",
   "name": "clasificador_gastos"
  },
  "language_info": {
   "codemirror_mode": {
    "name": "ipython",
    "version": 3
   },
   "file_extension": ".py",
   "mimetype": "text/x-python",
   "name": "python",
   "nbconvert_exporter": "python",
   "pygments_lexer": "ipython3",
   "version": "3.10.14"
  }
 },
 "nbformat": 4,
 "nbformat_minor": 5
}

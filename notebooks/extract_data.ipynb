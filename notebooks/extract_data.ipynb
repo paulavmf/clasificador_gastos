{
 "cells": [
  {
   "cell_type": "code",
   "id": "initial_id",
   "metadata": {
    "collapsed": true,
    "ExecuteTime": {
     "end_time": "2024-07-09T11:39:03.766404Z",
     "start_time": "2024-07-09T11:39:03.416846Z"
    }
   },
   "source": [
    "from src.Extractor import DataExtractor\n",
    "from src.Transformer import DataTransformer\n",
    "from src.Dataloader import DataLoader"
   ],
   "outputs": [],
   "execution_count": 1
  },
  {
   "metadata": {
    "ExecuteTime": {
     "end_time": "2024-07-09T11:45:07.961727Z",
     "start_time": "2024-07-09T11:45:07.958382Z"
    }
   },
   "cell_type": "code",
   "source": [
    "# EXTRAIDO ENERO FEBRERO MARZO ABRIL MAYO\n",
    "mes = \"Mayo\"\n",
    "año = 2024"
   ],
   "id": "848cd3edc7e5f6d0",
   "outputs": [],
   "execution_count": 20
  },
  {
   "metadata": {
    "ExecuteTime": {
     "end_time": "2024-07-09T11:45:08.704189Z",
     "start_time": "2024-07-09T11:45:08.440212Z"
    }
   },
   "cell_type": "code",
   "source": [
    "extractor = DataExtractor(mes, año)\n",
    "extractor.extraer()"
   ],
   "id": "cee84c6ddf0da730",
   "outputs": [],
   "execution_count": 21
  },
  {
   "metadata": {
    "ExecuteTime": {
     "end_time": "2024-07-09T11:45:08.936008Z",
     "start_time": "2024-07-09T11:45:08.896941Z"
    }
   },
   "cell_type": "code",
   "source": [
    "transformer = DataTransformer(extractor)\n",
    "transformer.save_and_transform()"
   ],
   "id": "e29d193ab3fd4d7d",
   "outputs": [],
   "execution_count": 22
  },
  {
   "metadata": {
    "ExecuteTime": {
     "end_time": "2024-07-09T11:45:09.441957Z",
     "start_time": "2024-07-09T11:45:09.419453Z"
    }
   },
   "cell_type": "code",
   "source": [
    "loader = DataLoader(transformer)\n",
    "loader.load_data_in_db()"
   ],
   "id": "b9710b6f9acf38b8",
   "outputs": [],
   "execution_count": 23
  }
 ],
 "metadata": {
  "kernelspec": {
   "display_name": "Python 3",
   "language": "python",
   "name": "python3"
  },
  "language_info": {
   "codemirror_mode": {
    "name": "ipython",
    "version": 2
   },
   "file_extension": ".py",
   "mimetype": "text/x-python",
   "name": "python",
   "nbconvert_exporter": "python",
   "pygments_lexer": "ipython2",
   "version": "2.7.6"
  }
 },
 "nbformat": 4,
 "nbformat_minor": 5
}

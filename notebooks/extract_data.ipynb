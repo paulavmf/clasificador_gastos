{
 "cells": [
  {
   "cell_type": "code",
   "id": "initial_id",
   "metadata": {
    "collapsed": true,
    "ExecuteTime": {
     "end_time": "2024-07-09T13:53:27.067570Z",
     "start_time": "2024-07-09T13:53:26.769897Z"
    }
   },
   "source": [
    "from src.Extractor import DataExtractor\n",
    "from src.Transformer import DataTransformer\n",
    "from src.Dataloader import DataLoader"
   ],
   "outputs": [],
   "execution_count": 3
  },
  {
   "metadata": {
    "ExecuteTime": {
     "end_time": "2024-07-09T13:53:27.211889Z",
     "start_time": "2024-07-09T13:53:27.208510Z"
    }
   },
   "cell_type": "code",
   "source": [
    "# EXTRAIDO ENERO FEBRERO MARZO ABRIL MAYO\n",
    "mes = \"Junio\"\n",
    "año = 2024"
   ],
   "id": "848cd3edc7e5f6d0",
   "outputs": [],
   "execution_count": 4
  },
  {
   "metadata": {
    "ExecuteTime": {
     "end_time": "2024-07-09T13:53:29.016757Z",
     "start_time": "2024-07-09T13:53:28.597295Z"
    }
   },
   "cell_type": "code",
   "source": [
    "extractor = DataExtractor(mes, año)\n",
    "extractor.extraer()"
   ],
   "id": "cee84c6ddf0da730",
   "outputs": [],
   "execution_count": 5
  },
  {
   "metadata": {
    "ExecuteTime": {
     "end_time": "2024-07-09T13:53:31.084627Z",
     "start_time": "2024-07-09T13:53:31.065825Z"
    }
   },
   "cell_type": "code",
   "source": [
    "transformer = DataTransformer(extractor)\n",
    "transformer.save_and_transform()"
   ],
   "id": "e29d193ab3fd4d7d",
   "outputs": [
    {
     "name": "stdout",
     "output_type": "stream",
     "text": [
      "File /home/paula/Documentos/clasificador_gastos/extractos/Extracto_Junio_2024.csv already exists it will be overwritten\n"
     ]
    }
   ],
   "execution_count": 6
  },
  {
   "metadata": {
    "ExecuteTime": {
     "end_time": "2024-07-09T13:58:33.113702Z",
     "start_time": "2024-07-09T13:58:33.096650Z"
    }
   },
   "cell_type": "code",
   "source": "transformer.convert_all_movements_to_dataframe()",
   "id": "c5444a482766826e",
   "outputs": [
    {
     "data": {
      "text/plain": [
       "        Fecha                              Descripción  cargo  abono\n",
       "0  2024-05-31   OPENAI *CHATGPT SUBSCR, SAN FRAN 20,00  18.54    0.0\n",
       "1  2024-05-31            FARMACIA EL CAMINO, LA LAGUNA   9.52    0.0\n",
       "2  2024-05-31    COM. USO REDES INTERNACION., SAN 0,60   0.56    0.0\n",
       "3  2024-06-02     MATILDE PATRIZIA CHIARINI, LA LAGUNA  11.70    0.0\n",
       "4  2024-06-02               PAYPAL *GLOVO, 35314369001  27.69    0.0\n",
       "..        ...                                      ...    ...    ...\n",
       "71 2024-06-26  TAXISTA ALEJANDRO MEDINA, LAS PALMAS DE   9.60    0.0\n",
       "72 2024-06-27        CAFETERIA LOS ROSALES, LAS PALMAS   5.80    0.0\n",
       "73 2024-06-27               Comisión mantenimiento año   0.00    0.0\n",
       "74 2024-06-27                   EL MOMENTO, LAS PALMAS   3.50    0.0\n",
       "75 2024-06-27                 BAR SALMON, PALMAS (LAS)   9.20    0.0\n",
       "\n",
       "[76 rows x 4 columns]"
      ],
      "text/html": [
       "<div>\n",
       "<style scoped>\n",
       "    .dataframe tbody tr th:only-of-type {\n",
       "        vertical-align: middle;\n",
       "    }\n",
       "\n",
       "    .dataframe tbody tr th {\n",
       "        vertical-align: top;\n",
       "    }\n",
       "\n",
       "    .dataframe thead th {\n",
       "        text-align: right;\n",
       "    }\n",
       "</style>\n",
       "<table border=\"1\" class=\"dataframe\">\n",
       "  <thead>\n",
       "    <tr style=\"text-align: right;\">\n",
       "      <th></th>\n",
       "      <th>Fecha</th>\n",
       "      <th>Descripción</th>\n",
       "      <th>cargo</th>\n",
       "      <th>abono</th>\n",
       "    </tr>\n",
       "  </thead>\n",
       "  <tbody>\n",
       "    <tr>\n",
       "      <th>0</th>\n",
       "      <td>2024-05-31</td>\n",
       "      <td>OPENAI *CHATGPT SUBSCR, SAN FRAN 20,00</td>\n",
       "      <td>18.54</td>\n",
       "      <td>0.0</td>\n",
       "    </tr>\n",
       "    <tr>\n",
       "      <th>1</th>\n",
       "      <td>2024-05-31</td>\n",
       "      <td>FARMACIA EL CAMINO, LA LAGUNA</td>\n",
       "      <td>9.52</td>\n",
       "      <td>0.0</td>\n",
       "    </tr>\n",
       "    <tr>\n",
       "      <th>2</th>\n",
       "      <td>2024-05-31</td>\n",
       "      <td>COM. USO REDES INTERNACION., SAN 0,60</td>\n",
       "      <td>0.56</td>\n",
       "      <td>0.0</td>\n",
       "    </tr>\n",
       "    <tr>\n",
       "      <th>3</th>\n",
       "      <td>2024-06-02</td>\n",
       "      <td>MATILDE PATRIZIA CHIARINI, LA LAGUNA</td>\n",
       "      <td>11.70</td>\n",
       "      <td>0.0</td>\n",
       "    </tr>\n",
       "    <tr>\n",
       "      <th>4</th>\n",
       "      <td>2024-06-02</td>\n",
       "      <td>PAYPAL *GLOVO, 35314369001</td>\n",
       "      <td>27.69</td>\n",
       "      <td>0.0</td>\n",
       "    </tr>\n",
       "    <tr>\n",
       "      <th>...</th>\n",
       "      <td>...</td>\n",
       "      <td>...</td>\n",
       "      <td>...</td>\n",
       "      <td>...</td>\n",
       "    </tr>\n",
       "    <tr>\n",
       "      <th>71</th>\n",
       "      <td>2024-06-26</td>\n",
       "      <td>TAXISTA ALEJANDRO MEDINA, LAS PALMAS DE</td>\n",
       "      <td>9.60</td>\n",
       "      <td>0.0</td>\n",
       "    </tr>\n",
       "    <tr>\n",
       "      <th>72</th>\n",
       "      <td>2024-06-27</td>\n",
       "      <td>CAFETERIA LOS ROSALES, LAS PALMAS</td>\n",
       "      <td>5.80</td>\n",
       "      <td>0.0</td>\n",
       "    </tr>\n",
       "    <tr>\n",
       "      <th>73</th>\n",
       "      <td>2024-06-27</td>\n",
       "      <td>Comisión mantenimiento año</td>\n",
       "      <td>0.00</td>\n",
       "      <td>0.0</td>\n",
       "    </tr>\n",
       "    <tr>\n",
       "      <th>74</th>\n",
       "      <td>2024-06-27</td>\n",
       "      <td>EL MOMENTO, LAS PALMAS</td>\n",
       "      <td>3.50</td>\n",
       "      <td>0.0</td>\n",
       "    </tr>\n",
       "    <tr>\n",
       "      <th>75</th>\n",
       "      <td>2024-06-27</td>\n",
       "      <td>BAR SALMON, PALMAS (LAS)</td>\n",
       "      <td>9.20</td>\n",
       "      <td>0.0</td>\n",
       "    </tr>\n",
       "  </tbody>\n",
       "</table>\n",
       "<p>76 rows × 4 columns</p>\n",
       "</div>"
      ]
     },
     "execution_count": 9,
     "metadata": {},
     "output_type": "execute_result"
    }
   ],
   "execution_count": 9
  },
  {
   "metadata": {
    "ExecuteTime": {
     "end_time": "2024-07-09T11:45:09.441957Z",
     "start_time": "2024-07-09T11:45:09.419453Z"
    }
   },
   "cell_type": "code",
   "source": [
    "# loader = DataLoader(transformer)\n",
    "# loader.load_data_in_db()"
   ],
   "id": "b9710b6f9acf38b8",
   "outputs": [],
   "execution_count": 23
  }
 ],
 "metadata": {
  "kernelspec": {
   "display_name": "Python 3",
   "language": "python",
   "name": "python3"
  },
  "language_info": {
   "codemirror_mode": {
    "name": "ipython",
    "version": 2
   },
   "file_extension": ".py",
   "mimetype": "text/x-python",
   "name": "python",
   "nbconvert_exporter": "python",
   "pygments_lexer": "ipython2",
   "version": "2.7.6"
  }
 },
 "nbformat": 4,
 "nbformat_minor": 5
}

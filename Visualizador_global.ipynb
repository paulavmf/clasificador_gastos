{
 "cells": [
  {
   "cell_type": "code",
   "id": "initial_id",
   "metadata": {
    "collapsed": true,
    "ExecuteTime": {
     "end_time": "2024-06-17T20:12:47.090598Z",
     "start_time": "2024-06-17T20:12:46.771025Z"
    }
   },
   "source": "import pandas as pd",
   "outputs": [],
   "execution_count": 1
  },
  {
   "metadata": {
    "ExecuteTime": {
     "end_time": "2024-06-17T20:15:47.009892Z",
     "start_time": "2024-06-17T20:15:46.985756Z"
    }
   },
   "cell_type": "code",
   "source": "dfs = pd.read_excel('mis_gastos.xlsx',engine = \"openpyxl\", sheet_name= None )",
   "id": "bed6cbeede504fae",
   "outputs": [],
   "execution_count": 4
  },
  {
   "metadata": {
    "ExecuteTime": {
     "end_time": "2024-06-17T20:15:54.346062Z",
     "start_time": "2024-06-17T20:15:54.342167Z"
    }
   },
   "cell_type": "code",
   "source": "dfs.keys()",
   "id": "3fb1f8daeb044d61",
   "outputs": [
    {
     "data": {
      "text/plain": [
       "dict_keys(['2024-05', '2024-06'])"
      ]
     },
     "execution_count": 5,
     "metadata": {},
     "output_type": "execute_result"
    }
   ],
   "execution_count": 5
  },
  {
   "metadata": {},
   "cell_type": "code",
   "outputs": [],
   "execution_count": null,
   "source": "",
   "id": "9a6490612b6e7bbc"
  }
 ],
 "metadata": {
  "kernelspec": {
   "display_name": "Python 3",
   "language": "python",
   "name": "python3"
  },
  "language_info": {
   "codemirror_mode": {
    "name": "ipython",
    "version": 2
   },
   "file_extension": ".py",
   "mimetype": "text/x-python",
   "name": "python",
   "nbconvert_exporter": "python",
   "pygments_lexer": "ipython2",
   "version": "2.7.6"
  }
 },
 "nbformat": 4,
 "nbformat_minor": 5
}

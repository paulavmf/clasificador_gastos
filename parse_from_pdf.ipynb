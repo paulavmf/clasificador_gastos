{
 "cells": [
  {
   "cell_type": "code",
   "id": "initial_id",
   "metadata": {
    "collapsed": true,
    "ExecuteTime": {
     "end_time": "2024-06-21T13:15:02.400643Z",
     "start_time": "2024-06-21T13:15:02.389965Z"
    }
   },
   "source": [
    "import pdfplumber\n",
    "import pandas as pd\n",
    "from src.widgets_helpers import file_selector_from_filder\n",
    "import re\n",
    "\n"
   ],
   "outputs": [],
   "execution_count": 18
  },
  {
   "metadata": {
    "ExecuteTime": {
     "end_time": "2024-06-21T13:15:02.828967Z",
     "start_time": "2024-06-21T13:15:02.818821Z"
    }
   },
   "cell_type": "code",
   "source": "file = file_selector_from_filder(\"extractos/\")",
   "id": "b02d8e464b0de1b3",
   "outputs": [
    {
     "data": {
      "text/plain": [
       "Dropdown(description='Archivos:', layout=Layout(width='50%'), options=(('Extracto_Febrero_2024.pdf', 'extracto…"
      ],
      "application/vnd.jupyter.widget-view+json": {
       "version_major": 2,
       "version_minor": 0,
       "model_id": "61417cd7b0cf45d284ab7205aed04af2"
      }
     },
     "metadata": {},
     "output_type": "display_data"
    }
   ],
   "execution_count": 19
  },
  {
   "metadata": {
    "ExecuteTime": {
     "end_time": "2024-06-21T13:15:03.347606Z",
     "start_time": "2024-06-21T13:15:03.342993Z"
    }
   },
   "cell_type": "code",
   "source": "file",
   "id": "74b7619cd96e656e",
   "outputs": [
    {
     "data": {
      "text/plain": [
       "'extractos/Extracto_Febrero_2024.pdf'"
      ]
     },
     "execution_count": 20,
     "metadata": {},
     "output_type": "execute_result"
    }
   ],
   "execution_count": 20
  },
  {
   "metadata": {
    "ExecuteTime": {
     "end_time": "2024-06-21T13:15:04.363101Z",
     "start_time": "2024-06-21T13:15:04.358819Z"
    }
   },
   "cell_type": "code",
   "source": [
    "def extract_text_from_pdf(pdf_path):\n",
    "    text = []\n",
    "    with pdfplumber.open(pdf_path) as pdf:\n",
    "        for pagina in pdf.pages:\n",
    "            text.append(pagina.extract_text())\n",
    "        return '\\n'.join(text)"
   ],
   "id": "71002250a6a15ac3",
   "outputs": [],
   "execution_count": 21
  },
  {
   "metadata": {
    "ExecuteTime": {
     "end_time": "2024-06-21T13:56:30.814354Z",
     "start_time": "2024-06-21T13:56:30.808869Z"
    }
   },
   "cell_type": "code",
   "source": [
    "def extract_text_from_pdf(pdf_path):\n",
    "    text = []\n",
    "    with pdfplumber.open(pdf_path) as pdf:\n",
    "        text.append(pdf.pages[0].extract_text())\n",
    "        return '\\n'.join(text)"
   ],
   "id": "e4905d482069c834",
   "outputs": [],
   "execution_count": 100
  },
  {
   "metadata": {
    "ExecuteTime": {
     "end_time": "2024-06-21T13:56:31.546029Z",
     "start_time": "2024-06-21T13:56:31.379936Z"
    }
   },
   "cell_type": "code",
   "source": "text = extract_text_from_pdf(file)",
   "id": "e666cf7ea19e0d07",
   "outputs": [],
   "execution_count": 101
  },
  {
   "metadata": {
    "ExecuteTime": {
     "end_time": "2024-06-21T13:58:36.356742Z",
     "start_time": "2024-06-21T13:58:36.352091Z"
    }
   },
   "cell_type": "code",
   "source": [
    "# Función para separar las columnas en una línea de texto\n",
    "def separar_columnas_cc(linea):\n",
    "    partes = re.split(r'\\s{2,}', linea)\n",
    "    \n",
    "    # Fechas y Ref\n",
    "    fecha = partes[0].split()[0]\n",
    "    ref = partes[0].split()[1]\n",
    "    fecha_valor = partes[0].split()[2]\n",
    "    \n",
    "    rest_of_line = linea.replace(' '.join([fecha, ref, fecha_valor]), '').strip()\n",
    "    \n",
    "    \n",
    "    # Descripción y valores numéricos\n",
    "    # descripcion_partes = partes[1].split()\n",
    "     # Inicializar variables para cargos, abonos y saldo\n",
    "    saldo = rest_of_line.split()[-1]\n",
    "    cargo_abono = rest_of_line.split()[-2]\n",
    "    description = rest_of_line.replace(' '.join([cargo_abono, saldo]), '').strip()\n",
    "    return [fecha, ref, fecha_valor, description,cargo_abono, saldo]"
   ],
   "id": "dbd7d4b33f620fb3",
   "outputs": [],
   "execution_count": 108
  },
  {
   "metadata": {
    "ExecuteTime": {
     "end_time": "2024-06-21T13:58:37.881528Z",
     "start_time": "2024-06-21T13:58:37.875046Z"
    }
   },
   "cell_type": "code",
   "source": [
    "# Dividir el texto en líneas\n",
    "lineas = text.split('\\n')\n",
    "\n",
    "# Filtrar las líneas relevantes\n",
    "transacciones = []\n",
    "for linea in lineas:\n",
    "    # Asumir que cada línea relevante contiene una fecha en el formato dd-mm-yy\n",
    "    if \"-24 \" in linea:  # Ajusta esto según tu formato de fecha\n",
    "        transacciones.append(separar_columnas_cc(linea))"
   ],
   "id": "53b6caa325840057",
   "outputs": [],
   "execution_count": 109
  },
  {
   "metadata": {
    "ExecuteTime": {
     "end_time": "2024-06-21T13:58:40.410660Z",
     "start_time": "2024-06-21T13:58:40.392436Z"
    }
   },
   "cell_type": "code",
   "source": "transacciones",
   "id": "d83cc5ea91bd6fcd",
   "outputs": [
    {
     "data": {
      "text/plain": [
       "[['02-02-24', '846', '01-02-24', 'RECIBO PLATINUM', '1.285,52', '5.793,33'],\n",
       " ['02-02-24',\n",
       "  '006',\n",
       "  '01-02-24',\n",
       "  'PAGO BIZUM A NATALIA;GRANDA;AL',\n",
       "  '4,40',\n",
       "  '5.788,93'],\n",
       " ['07-02-24',\n",
       "  '134',\n",
       "  '07-02-24',\n",
       "  'PAGO BIZUM A ROBERTO;PERINELLI',\n",
       "  '85,00',\n",
       "  '5.703,93'],\n",
       " ['10-02-24',\n",
       "  '201',\n",
       "  '10-02-24',\n",
       "  'PAGO BIZUM A ANE;RAMSDEN;ARRIB',\n",
       "  '33,00',\n",
       "  '5.670,93'],\n",
       " ['10-02-24',\n",
       "  '322',\n",
       "  '10-02-24',\n",
       "  'PAGO BIZUM A SAMIR RUBEN;AUYAN',\n",
       "  '70,80',\n",
       "  '5.600,13'],\n",
       " ['12-02-24',\n",
       "  '042',\n",
       "  '12-02-24',\n",
       "  'PAGO BIZUM A DANIEL;TANO;LEAL',\n",
       "  '5,00',\n",
       "  '5.595,13'],\n",
       " ['12-02-24',\n",
       "  '505',\n",
       "  '11-02-24',\n",
       "  'PAGO BIZUM A ANE;RAMSDEN;ARRIB',\n",
       "  '5,00',\n",
       "  '5.590,13'],\n",
       " ['12-02-24',\n",
       "  '662',\n",
       "  '11-02-24',\n",
       "  'PAGO BIZUM A NATALIA;GRANDA;AL',\n",
       "  '31,50',\n",
       "  '5.558,63'],\n",
       " ['13-02-24', '980', '13-02-24', 'RECIBO /SIMYO', '23,43', '5.535,20'],\n",
       " ['13-02-24',\n",
       "  '014',\n",
       "  '11-02-24',\n",
       "  'CAJERO LA CAIXA OF.6738',\n",
       "  '80,00',\n",
       "  '5.455,20'],\n",
       " ['13-02-24', '382', '11-02-24', 'COMISION MOV. DEB.', '2,95', '5.452,25'],\n",
       " ['15-02-24',\n",
       "  '840',\n",
       "  '15-02-24',\n",
       "  'TRANS /samir ruben auyanet vie',\n",
       "  '742,42',\n",
       "  '4.709,83'],\n",
       " ['17-02-24',\n",
       "  '463',\n",
       "  '17-02-24',\n",
       "  'PAGO BIZUM DE NATALIA;GRANDA;A',\n",
       "  '4,50',\n",
       "  '4.714,33'],\n",
       " ['17-02-24',\n",
       "  '632',\n",
       "  '17-02-24',\n",
       "  'PAGO BIZUM A NATALIA;GRANDA;AL',\n",
       "  '14,00',\n",
       "  '4.700,33'],\n",
       " ['17-02-24',\n",
       "  '670',\n",
       "  '17-02-24',\n",
       "  'PAGO BIZUM A SAMIR RUBEN;AUYAN',\n",
       "  '85,00',\n",
       "  '4.615,33'],\n",
       " ['19-02-24',\n",
       "  '477',\n",
       "  '17-02-24',\n",
       "  'PAGO BIZUM A NATALIA;GRANDA;AL',\n",
       "  '3,50',\n",
       "  '4.611,83'],\n",
       " ['19-02-24',\n",
       "  '238',\n",
       "  '19-02-24',\n",
       "  'TRANS /JOSEFA ROSA DENIZ PÉREZ',\n",
       "  '560,00',\n",
       "  '4.051,83'],\n",
       " ['26-02-24',\n",
       "  '89',\n",
       "  '26-02-24',\n",
       "  'TRANSF NOMI /INSTITUTO TECNOLO',\n",
       "  '2.074,25',\n",
       "  '6.126,08'],\n",
       " ['27-02-24',\n",
       "  '152',\n",
       "  '27-02-24',\n",
       "  'PAGO BIZUM A SAMIR RUBEN;AUYAN',\n",
       "  '7,00',\n",
       "  '6.119,08'],\n",
       " ['27-02-24',\n",
       "  '284',\n",
       "  '27-02-24',\n",
       "  'PAGO BIZUM A SAMIR RUBEN;AUYAN',\n",
       "  '10,00',\n",
       "  '6.109,08'],\n",
       " ['28-02-24',\n",
       "  '095',\n",
       "  '27-02-24',\n",
       "  'PAGO BIZUM A SAMIR RUBEN;AUYAN',\n",
       "  '6,00',\n",
       "  '6.103,08'],\n",
       " ['28-02-24',\n",
       "  '637',\n",
       "  '28-02-24',\n",
       "  'PAGO BIZUM A NURIA;MORA;BETANC',\n",
       "  '4,00',\n",
       "  '6.099,08']]"
      ]
     },
     "execution_count": 110,
     "metadata": {},
     "output_type": "execute_result"
    }
   ],
   "execution_count": 110
  },
  {
   "metadata": {
    "ExecuteTime": {
     "end_time": "2024-06-21T14:03:07.339983Z",
     "start_time": "2024-06-21T14:03:07.331895Z"
    }
   },
   "cell_type": "code",
   "source": [
    "def convert_transactions_to_DF(transacciones): \n",
    "    columnas = ['Fecha', 'Ref', 'Fecha Valor', 'Descripción', 'cargos_abonos', 'Saldo']\n",
    "    df = pd.DataFrame(transacciones, columns=columnas)\n",
    "    df['Fecha'] = pd.to_datetime(df['Fecha'], errors='coerce', format='%d-%m-%y')\n",
    "    df['Fecha Valor'] = pd.to_datetime(df['Fecha Valor'], errors='coerce', format='%d-%m-%y')\n",
    "    # Convertir las columnas de importe a numérico\n",
    "    return df\n"
   ],
   "id": "8e68a1eef5dc4d02",
   "outputs": [],
   "execution_count": 121
  },
  {
   "metadata": {
    "ExecuteTime": {
     "end_time": "2024-06-21T14:03:07.794446Z",
     "start_time": "2024-06-21T14:03:07.785585Z"
    }
   },
   "cell_type": "code",
   "source": "df = convert_transactions_to_DF(transacciones)",
   "id": "15635c84411ec44b",
   "outputs": [],
   "execution_count": 122
  },
  {
   "metadata": {
    "ExecuteTime": {
     "end_time": "2024-06-21T14:03:08.644846Z",
     "start_time": "2024-06-21T14:03:08.588071Z"
    }
   },
   "cell_type": "code",
   "source": "df",
   "id": "1eed46947fef43d2",
   "outputs": [
    {
     "data": {
      "text/plain": [
       "        Fecha  Ref Fecha Valor                     Descripción cargos_abonos  \\\n",
       "0  2024-02-02  846  2024-02-01                 RECIBO PLATINUM      1.285,52   \n",
       "1  2024-02-02  006  2024-02-01  PAGO BIZUM A NATALIA;GRANDA;AL          4,40   \n",
       "2  2024-02-07  134  2024-02-07  PAGO BIZUM A ROBERTO;PERINELLI         85,00   \n",
       "3  2024-02-10  201  2024-02-10  PAGO BIZUM A ANE;RAMSDEN;ARRIB         33,00   \n",
       "4  2024-02-10  322  2024-02-10  PAGO BIZUM A SAMIR RUBEN;AUYAN         70,80   \n",
       "5  2024-02-12  042  2024-02-12   PAGO BIZUM A DANIEL;TANO;LEAL          5,00   \n",
       "6  2024-02-12  505  2024-02-11  PAGO BIZUM A ANE;RAMSDEN;ARRIB          5,00   \n",
       "7  2024-02-12  662  2024-02-11  PAGO BIZUM A NATALIA;GRANDA;AL         31,50   \n",
       "8  2024-02-13  980  2024-02-13                   RECIBO /SIMYO         23,43   \n",
       "9  2024-02-13  014  2024-02-11         CAJERO LA CAIXA OF.6738         80,00   \n",
       "10 2024-02-13  382  2024-02-11              COMISION MOV. DEB.          2,95   \n",
       "11 2024-02-15  840  2024-02-15  TRANS /samir ruben auyanet vie        742,42   \n",
       "12 2024-02-17  463  2024-02-17  PAGO BIZUM DE NATALIA;GRANDA;A          4,50   \n",
       "13 2024-02-17  632  2024-02-17  PAGO BIZUM A NATALIA;GRANDA;AL         14,00   \n",
       "14 2024-02-17  670  2024-02-17  PAGO BIZUM A SAMIR RUBEN;AUYAN         85,00   \n",
       "15 2024-02-19  477  2024-02-17  PAGO BIZUM A NATALIA;GRANDA;AL          3,50   \n",
       "16 2024-02-19  238  2024-02-19  TRANS /JOSEFA ROSA DENIZ PÉREZ        560,00   \n",
       "17 2024-02-26   89  2024-02-26  TRANSF NOMI /INSTITUTO TECNOLO      2.074,25   \n",
       "18 2024-02-27  152  2024-02-27  PAGO BIZUM A SAMIR RUBEN;AUYAN          7,00   \n",
       "19 2024-02-27  284  2024-02-27  PAGO BIZUM A SAMIR RUBEN;AUYAN         10,00   \n",
       "20 2024-02-28  095  2024-02-27  PAGO BIZUM A SAMIR RUBEN;AUYAN          6,00   \n",
       "21 2024-02-28  637  2024-02-28  PAGO BIZUM A NURIA;MORA;BETANC          4,00   \n",
       "\n",
       "       Saldo  \n",
       "0   5.793,33  \n",
       "1   5.788,93  \n",
       "2   5.703,93  \n",
       "3   5.670,93  \n",
       "4   5.600,13  \n",
       "5   5.595,13  \n",
       "6   5.590,13  \n",
       "7   5.558,63  \n",
       "8   5.535,20  \n",
       "9   5.455,20  \n",
       "10  5.452,25  \n",
       "11  4.709,83  \n",
       "12  4.714,33  \n",
       "13  4.700,33  \n",
       "14  4.615,33  \n",
       "15  4.611,83  \n",
       "16  4.051,83  \n",
       "17  6.126,08  \n",
       "18  6.119,08  \n",
       "19  6.109,08  \n",
       "20  6.103,08  \n",
       "21  6.099,08  "
      ],
      "text/html": [
       "<div>\n",
       "<style scoped>\n",
       "    .dataframe tbody tr th:only-of-type {\n",
       "        vertical-align: middle;\n",
       "    }\n",
       "\n",
       "    .dataframe tbody tr th {\n",
       "        vertical-align: top;\n",
       "    }\n",
       "\n",
       "    .dataframe thead th {\n",
       "        text-align: right;\n",
       "    }\n",
       "</style>\n",
       "<table border=\"1\" class=\"dataframe\">\n",
       "  <thead>\n",
       "    <tr style=\"text-align: right;\">\n",
       "      <th></th>\n",
       "      <th>Fecha</th>\n",
       "      <th>Ref</th>\n",
       "      <th>Fecha Valor</th>\n",
       "      <th>Descripción</th>\n",
       "      <th>cargos_abonos</th>\n",
       "      <th>Saldo</th>\n",
       "    </tr>\n",
       "  </thead>\n",
       "  <tbody>\n",
       "    <tr>\n",
       "      <th>0</th>\n",
       "      <td>2024-02-02</td>\n",
       "      <td>846</td>\n",
       "      <td>2024-02-01</td>\n",
       "      <td>RECIBO PLATINUM</td>\n",
       "      <td>1.285,52</td>\n",
       "      <td>5.793,33</td>\n",
       "    </tr>\n",
       "    <tr>\n",
       "      <th>1</th>\n",
       "      <td>2024-02-02</td>\n",
       "      <td>006</td>\n",
       "      <td>2024-02-01</td>\n",
       "      <td>PAGO BIZUM A NATALIA;GRANDA;AL</td>\n",
       "      <td>4,40</td>\n",
       "      <td>5.788,93</td>\n",
       "    </tr>\n",
       "    <tr>\n",
       "      <th>2</th>\n",
       "      <td>2024-02-07</td>\n",
       "      <td>134</td>\n",
       "      <td>2024-02-07</td>\n",
       "      <td>PAGO BIZUM A ROBERTO;PERINELLI</td>\n",
       "      <td>85,00</td>\n",
       "      <td>5.703,93</td>\n",
       "    </tr>\n",
       "    <tr>\n",
       "      <th>3</th>\n",
       "      <td>2024-02-10</td>\n",
       "      <td>201</td>\n",
       "      <td>2024-02-10</td>\n",
       "      <td>PAGO BIZUM A ANE;RAMSDEN;ARRIB</td>\n",
       "      <td>33,00</td>\n",
       "      <td>5.670,93</td>\n",
       "    </tr>\n",
       "    <tr>\n",
       "      <th>4</th>\n",
       "      <td>2024-02-10</td>\n",
       "      <td>322</td>\n",
       "      <td>2024-02-10</td>\n",
       "      <td>PAGO BIZUM A SAMIR RUBEN;AUYAN</td>\n",
       "      <td>70,80</td>\n",
       "      <td>5.600,13</td>\n",
       "    </tr>\n",
       "    <tr>\n",
       "      <th>5</th>\n",
       "      <td>2024-02-12</td>\n",
       "      <td>042</td>\n",
       "      <td>2024-02-12</td>\n",
       "      <td>PAGO BIZUM A DANIEL;TANO;LEAL</td>\n",
       "      <td>5,00</td>\n",
       "      <td>5.595,13</td>\n",
       "    </tr>\n",
       "    <tr>\n",
       "      <th>6</th>\n",
       "      <td>2024-02-12</td>\n",
       "      <td>505</td>\n",
       "      <td>2024-02-11</td>\n",
       "      <td>PAGO BIZUM A ANE;RAMSDEN;ARRIB</td>\n",
       "      <td>5,00</td>\n",
       "      <td>5.590,13</td>\n",
       "    </tr>\n",
       "    <tr>\n",
       "      <th>7</th>\n",
       "      <td>2024-02-12</td>\n",
       "      <td>662</td>\n",
       "      <td>2024-02-11</td>\n",
       "      <td>PAGO BIZUM A NATALIA;GRANDA;AL</td>\n",
       "      <td>31,50</td>\n",
       "      <td>5.558,63</td>\n",
       "    </tr>\n",
       "    <tr>\n",
       "      <th>8</th>\n",
       "      <td>2024-02-13</td>\n",
       "      <td>980</td>\n",
       "      <td>2024-02-13</td>\n",
       "      <td>RECIBO /SIMYO</td>\n",
       "      <td>23,43</td>\n",
       "      <td>5.535,20</td>\n",
       "    </tr>\n",
       "    <tr>\n",
       "      <th>9</th>\n",
       "      <td>2024-02-13</td>\n",
       "      <td>014</td>\n",
       "      <td>2024-02-11</td>\n",
       "      <td>CAJERO LA CAIXA OF.6738</td>\n",
       "      <td>80,00</td>\n",
       "      <td>5.455,20</td>\n",
       "    </tr>\n",
       "    <tr>\n",
       "      <th>10</th>\n",
       "      <td>2024-02-13</td>\n",
       "      <td>382</td>\n",
       "      <td>2024-02-11</td>\n",
       "      <td>COMISION MOV. DEB.</td>\n",
       "      <td>2,95</td>\n",
       "      <td>5.452,25</td>\n",
       "    </tr>\n",
       "    <tr>\n",
       "      <th>11</th>\n",
       "      <td>2024-02-15</td>\n",
       "      <td>840</td>\n",
       "      <td>2024-02-15</td>\n",
       "      <td>TRANS /samir ruben auyanet vie</td>\n",
       "      <td>742,42</td>\n",
       "      <td>4.709,83</td>\n",
       "    </tr>\n",
       "    <tr>\n",
       "      <th>12</th>\n",
       "      <td>2024-02-17</td>\n",
       "      <td>463</td>\n",
       "      <td>2024-02-17</td>\n",
       "      <td>PAGO BIZUM DE NATALIA;GRANDA;A</td>\n",
       "      <td>4,50</td>\n",
       "      <td>4.714,33</td>\n",
       "    </tr>\n",
       "    <tr>\n",
       "      <th>13</th>\n",
       "      <td>2024-02-17</td>\n",
       "      <td>632</td>\n",
       "      <td>2024-02-17</td>\n",
       "      <td>PAGO BIZUM A NATALIA;GRANDA;AL</td>\n",
       "      <td>14,00</td>\n",
       "      <td>4.700,33</td>\n",
       "    </tr>\n",
       "    <tr>\n",
       "      <th>14</th>\n",
       "      <td>2024-02-17</td>\n",
       "      <td>670</td>\n",
       "      <td>2024-02-17</td>\n",
       "      <td>PAGO BIZUM A SAMIR RUBEN;AUYAN</td>\n",
       "      <td>85,00</td>\n",
       "      <td>4.615,33</td>\n",
       "    </tr>\n",
       "    <tr>\n",
       "      <th>15</th>\n",
       "      <td>2024-02-19</td>\n",
       "      <td>477</td>\n",
       "      <td>2024-02-17</td>\n",
       "      <td>PAGO BIZUM A NATALIA;GRANDA;AL</td>\n",
       "      <td>3,50</td>\n",
       "      <td>4.611,83</td>\n",
       "    </tr>\n",
       "    <tr>\n",
       "      <th>16</th>\n",
       "      <td>2024-02-19</td>\n",
       "      <td>238</td>\n",
       "      <td>2024-02-19</td>\n",
       "      <td>TRANS /JOSEFA ROSA DENIZ PÉREZ</td>\n",
       "      <td>560,00</td>\n",
       "      <td>4.051,83</td>\n",
       "    </tr>\n",
       "    <tr>\n",
       "      <th>17</th>\n",
       "      <td>2024-02-26</td>\n",
       "      <td>89</td>\n",
       "      <td>2024-02-26</td>\n",
       "      <td>TRANSF NOMI /INSTITUTO TECNOLO</td>\n",
       "      <td>2.074,25</td>\n",
       "      <td>6.126,08</td>\n",
       "    </tr>\n",
       "    <tr>\n",
       "      <th>18</th>\n",
       "      <td>2024-02-27</td>\n",
       "      <td>152</td>\n",
       "      <td>2024-02-27</td>\n",
       "      <td>PAGO BIZUM A SAMIR RUBEN;AUYAN</td>\n",
       "      <td>7,00</td>\n",
       "      <td>6.119,08</td>\n",
       "    </tr>\n",
       "    <tr>\n",
       "      <th>19</th>\n",
       "      <td>2024-02-27</td>\n",
       "      <td>284</td>\n",
       "      <td>2024-02-27</td>\n",
       "      <td>PAGO BIZUM A SAMIR RUBEN;AUYAN</td>\n",
       "      <td>10,00</td>\n",
       "      <td>6.109,08</td>\n",
       "    </tr>\n",
       "    <tr>\n",
       "      <th>20</th>\n",
       "      <td>2024-02-28</td>\n",
       "      <td>095</td>\n",
       "      <td>2024-02-27</td>\n",
       "      <td>PAGO BIZUM A SAMIR RUBEN;AUYAN</td>\n",
       "      <td>6,00</td>\n",
       "      <td>6.103,08</td>\n",
       "    </tr>\n",
       "    <tr>\n",
       "      <th>21</th>\n",
       "      <td>2024-02-28</td>\n",
       "      <td>637</td>\n",
       "      <td>2024-02-28</td>\n",
       "      <td>PAGO BIZUM A NURIA;MORA;BETANC</td>\n",
       "      <td>4,00</td>\n",
       "      <td>6.099,08</td>\n",
       "    </tr>\n",
       "  </tbody>\n",
       "</table>\n",
       "</div>"
      ]
     },
     "execution_count": 123,
     "metadata": {},
     "output_type": "execute_result"
    }
   ],
   "execution_count": 123
  },
  {
   "metadata": {
    "ExecuteTime": {
     "end_time": "2024-06-21T14:01:21.557006Z",
     "start_time": "2024-06-21T14:01:21.551162Z"
    }
   },
   "cell_type": "code",
   "source": "len(transacciones[0])",
   "id": "a0eea80a138fc0c3",
   "outputs": [
    {
     "data": {
      "text/plain": [
       "6"
      ]
     },
     "execution_count": 114,
     "metadata": {},
     "output_type": "execute_result"
    }
   ],
   "execution_count": 114
  },
  {
   "metadata": {},
   "cell_type": "code",
   "outputs": [],
   "execution_count": null,
   "source": "",
   "id": "f8cd51fc770752b7"
  }
 ],
 "metadata": {
  "kernelspec": {
   "display_name": "Python 3",
   "language": "python",
   "name": "python3"
  },
  "language_info": {
   "codemirror_mode": {
    "name": "ipython",
    "version": 2
   },
   "file_extension": ".py",
   "mimetype": "text/x-python",
   "name": "python",
   "nbconvert_exporter": "python",
   "pygments_lexer": "ipython2",
   "version": "2.7.6"
  }
 },
 "nbformat": 4,
 "nbformat_minor": 5
}
